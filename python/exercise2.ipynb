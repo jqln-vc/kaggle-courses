{
  "metadata": {
    "kernelspec": {
      "display_name": "Python 3",
      "language": "python",
      "name": "python3"
    },
    "language_info": {
      "name": "python",
      "version": "3.10.13",
      "mimetype": "text/x-python",
      "codemirror_mode": {
        "name": "ipython",
        "version": 3
      },
      "pygments_lexer": "ipython3",
      "nbconvert_exporter": "python",
      "file_extension": ".py"
    },
    "learntools_metadata": {
      "lesson_index": 1,
      "type": "exercise"
    },
    "kaggle": {
      "accelerator": "none",
      "dataSources": [],
      "isInternetEnabled": false,
      "language": "python",
      "sourceType": "notebook",
      "isGpuEnabled": false
    },
    "colab": {
      "provenance": [],
      "include_colab_link": true
    }
  },
  "nbformat_minor": 0,
  "nbformat": 4,
  "cells": [
    {
      "cell_type": "markdown",
      "metadata": {
        "id": "view-in-github",
        "colab_type": "text"
      },
      "source": [
        "<a href=\"https://colab.research.google.com/github/N111N3/kaggle_courses/blob/master/python/exercise2.ipynb\" target=\"_parent\"><img src=\"https://colab.research.google.com/assets/colab-badge.svg\" alt=\"Open In Colab\"/></a>"
      ]
    },
    {
      "cell_type": "markdown",
      "source": [
        "**This notebook is an exercise in the [Python](https://www.kaggle.com/learn/python) course.  You can reference the tutorial at [this link](https://www.kaggle.com/colinmorris/functions-and-getting-help).**\n",
        "\n",
        "---\n"
      ],
      "metadata": {
        "id": "h0_sWsHennAw"
      }
    },
    {
      "cell_type": "markdown",
      "source": [
        "Functions are powerful. Try writing some yourself.\n",
        "\n",
        "As before, don't forget to run the setup code below before jumping into question 1."
      ],
      "metadata": {
        "id": "g9350JG3nnAz"
      }
    },
    {
      "cell_type": "code",
      "source": [
        "# SETUP. You don't need to worry for now about what this code does or how it works.\n",
        "from learntools.core import binder; binder.bind(globals())\n",
        "from learntools.python.ex2 import *\n",
        "print('Setup complete.')"
      ],
      "metadata": {
        "_kg_hide-input": true,
        "_kg_hide-output": true,
        "execution": {
          "iopub.status.busy": "2024-03-31T22:08:09.508435Z",
          "iopub.execute_input": "2024-03-31T22:08:09.508871Z",
          "iopub.status.idle": "2024-03-31T22:08:10.705397Z",
          "shell.execute_reply.started": "2024-03-31T22:08:09.508838Z",
          "shell.execute_reply": "2024-03-31T22:08:10.703857Z"
        },
        "trusted": true,
        "id": "P_mIqBzinnAz",
        "outputId": "23815d7b-6b13-4d32-b083-7052cd7c0bcc"
      },
      "execution_count": null,
      "outputs": [
        {
          "name": "stdout",
          "text": "Setup complete.\n",
          "output_type": "stream"
        }
      ]
    },
    {
      "cell_type": "markdown",
      "source": [
        "# 1.\n",
        "\n",
        "Complete the body of the following function according to its docstring.\n",
        "\n",
        "HINT: Python has a built-in function `round`."
      ],
      "metadata": {
        "id": "eULNYdOCnnA1"
      }
    },
    {
      "cell_type": "code",
      "source": [
        "def round_to_two_places(num):\n",
        "    \"\"\"Return the given number rounded to two decimal places.\n",
        "\n",
        "    >>> round_to_two_places(3.14159)\n",
        "    3.14\n",
        "    \"\"\"\n",
        "    # Replace this body with your own code.\n",
        "    # (\"pass\" is a keyword that does literally nothing. We used it as a placeholder\n",
        "    # because after we begin a code block, Python requires at least one line of code)\n",
        "    return round(num, 2)\n",
        "\n",
        "# Check your answer\n",
        "q1.check()"
      ],
      "metadata": {
        "execution": {
          "iopub.status.busy": "2024-03-31T22:09:42.070761Z",
          "iopub.execute_input": "2024-03-31T22:09:42.071203Z",
          "iopub.status.idle": "2024-03-31T22:09:42.083841Z",
          "shell.execute_reply.started": "2024-03-31T22:09:42.071171Z",
          "shell.execute_reply": "2024-03-31T22:09:42.082465Z"
        },
        "trusted": true,
        "id": "6Od9t7oPnnA1",
        "outputId": "c448ad95-5f4c-42d1-f472-887cf682b820"
      },
      "execution_count": null,
      "outputs": [
        {
          "output_type": "display_data",
          "data": {
            "text/plain": "<IPython.core.display.Javascript object>",
            "application/javascript": "parent.postMessage({\"jupyterEvent\": \"custom.exercise_interaction\", \"data\": {\"outcomeType\": 1, \"valueTowardsCompletion\": 0.16666666666666666, \"interactionType\": 1, \"questionType\": 2, \"questionId\": \"1_RoundFunctionProblem\", \"learnToolsVersion\": \"0.3.4\", \"failureMessage\": \"\", \"exceptionClass\": \"\", \"trace\": \"\"}}, \"*\")"
          },
          "metadata": {}
        },
        {
          "output_type": "display_data",
          "data": {
            "text/plain": "Correct",
            "text/markdown": "<span style=\"color:#33cc33\">Correct</span>"
          },
          "metadata": {}
        }
      ]
    },
    {
      "cell_type": "code",
      "source": [
        "# Uncomment the following for a hint\n",
        "#q1.hint()\n",
        "# Or uncomment the following to peek at the solution\n",
        "#q1.solution()"
      ],
      "metadata": {
        "id": "pJtlyezHnnA2"
      },
      "execution_count": null,
      "outputs": []
    },
    {
      "cell_type": "markdown",
      "source": [
        "# 2.\n",
        "The help for `round` says that `ndigits` (the second argument) may be negative.\n",
        "What do you think will happen when it is? Try some examples in the following cell."
      ],
      "metadata": {
        "id": "EaPybbEXnnA2"
      }
    },
    {
      "cell_type": "code",
      "source": [
        "# Put your test code here\n",
        "print(\n",
        "    round(387, -1),\n",
        "    round(381, -2),\n",
        "    round(1551, -3)\n",
        ")"
      ],
      "metadata": {
        "execution": {
          "iopub.status.busy": "2024-03-31T22:13:53.490151Z",
          "iopub.execute_input": "2024-03-31T22:13:53.490557Z",
          "iopub.status.idle": "2024-03-31T22:13:53.497329Z",
          "shell.execute_reply.started": "2024-03-31T22:13:53.490531Z",
          "shell.execute_reply": "2024-03-31T22:13:53.495857Z"
        },
        "trusted": true,
        "id": "2TF8V_Q4nnA2",
        "outputId": "9beb0686-818f-4116-a26b-f8f9d50062e5"
      },
      "execution_count": null,
      "outputs": [
        {
          "name": "stdout",
          "text": "390 400 2000\n",
          "output_type": "stream"
        }
      ]
    },
    {
      "cell_type": "markdown",
      "source": [
        "Can you think of a case where this would be useful?  Once you're ready, run the code cell below to see the answer and to receive credit for completing the problem."
      ],
      "metadata": {
        "id": "DEh47SAcnnA3"
      }
    },
    {
      "cell_type": "code",
      "source": [
        "# Check your answer (Run this code cell to receive credit!)\n",
        "q2.solution()"
      ],
      "metadata": {
        "execution": {
          "iopub.status.busy": "2024-03-31T22:14:00.128843Z",
          "iopub.execute_input": "2024-03-31T22:14:00.129288Z",
          "iopub.status.idle": "2024-03-31T22:14:00.140676Z",
          "shell.execute_reply.started": "2024-03-31T22:14:00.129241Z",
          "shell.execute_reply": "2024-03-31T22:14:00.1393Z"
        },
        "trusted": true,
        "id": "R_fA734jnnA3",
        "outputId": "4f7751b9-fd1a-4ba5-ade3-1ac25c6ed126"
      },
      "execution_count": null,
      "outputs": [
        {
          "output_type": "display_data",
          "data": {
            "text/plain": "<IPython.core.display.Javascript object>",
            "application/javascript": "parent.postMessage({\"jupyterEvent\": \"custom.exercise_interaction\", \"data\": {\"interactionType\": 3, \"questionType\": 4, \"questionId\": \"2_RoundNdigitsProblem\", \"learnToolsVersion\": \"0.3.4\", \"valueTowardsCompletion\": 0.0, \"failureMessage\": \"\", \"exceptionClass\": \"\", \"trace\": \"\", \"outcomeType\": 4}}, \"*\")"
          },
          "metadata": {}
        },
        {
          "output_type": "display_data",
          "data": {
            "text/plain": "Solution: As you've seen, `ndigits=-1` rounds to the nearest 10, `ndigits=-2` rounds to the nearest 100 and so on. Where might this be useful? Suppose we're dealing with large numbers:\n\n> The area of Finland is 338,424 km²  \n> The area of Greenland is 2,166,086 km²\n\nWe probably don't care whether it's really 338,424, or 338,425, or 338,177. All those digits of accuracy are just distracting. We can chop them off by calling `round()` with `ndigits=-3`:\n\n> The area of Finland is 338,000 km²  \n> The area of Greenland is 2,166,000 km²\n\n(We'll talk about how we would get the commas later when we talk about string formatting :))",
            "text/markdown": "<span style=\"color:#33cc99\">Solution:</span> As you've seen, `ndigits=-1` rounds to the nearest 10, `ndigits=-2` rounds to the nearest 100 and so on. Where might this be useful? Suppose we're dealing with large numbers:\n\n> The area of Finland is 338,424 km²  \n> The area of Greenland is 2,166,086 km²\n\nWe probably don't care whether it's really 338,424, or 338,425, or 338,177. All those digits of accuracy are just distracting. We can chop them off by calling `round()` with `ndigits=-3`:\n\n> The area of Finland is 338,000 km²  \n> The area of Greenland is 2,166,000 km²\n\n(We'll talk about how we would get the commas later when we talk about string formatting :))\n"
          },
          "metadata": {}
        }
      ]
    },
    {
      "cell_type": "markdown",
      "source": [
        "# 3.\n",
        "\n",
        "In the previous exercise, the candy-sharing friends Alice, Bob and Carol tried to split candies evenly. For the sake of their friendship, any candies left over would be smashed. For example, if they collectively bring home 91 candies, they'll take 30 each and smash 1.\n",
        "\n",
        "Below is a simple function that will calculate the number of candies to smash for *any* number of total candies.\n",
        "\n",
        "Modify it so that it optionally takes a second argument representing the number of friends the candies are being split between. If no second argument is provided, it should assume 3 friends, as before.\n",
        "\n",
        "Update the docstring to reflect this new behaviour."
      ],
      "metadata": {
        "id": "J9Z97_S_nnA4"
      }
    },
    {
      "cell_type": "code",
      "source": [
        "def to_smash(total_candies, nfriends=3):\n",
        "    \"\"\"Return the number of leftover candies that must be smashed after distributing\n",
        "    the given number of candies evenly between a number of nfriends. The second argument\n",
        "    is optional, given no specific number of friends, the function returns the modulo by 3.\n",
        "\n",
        "\n",
        "    >>> to_smash(91)\n",
        "    1\n",
        "    \"\"\"\n",
        "    return total_candies % nfriends\n",
        "\n",
        "# Check your answer\n",
        "q3.check()"
      ],
      "metadata": {
        "execution": {
          "iopub.status.busy": "2024-03-31T22:21:01.848593Z",
          "iopub.execute_input": "2024-03-31T22:21:01.8496Z",
          "iopub.status.idle": "2024-03-31T22:21:01.860514Z",
          "shell.execute_reply.started": "2024-03-31T22:21:01.84956Z",
          "shell.execute_reply": "2024-03-31T22:21:01.858379Z"
        },
        "trusted": true,
        "id": "_JJFlsTZnnA4",
        "outputId": "494cc7bf-9a7b-4aa3-c845-9646e4114adf"
      },
      "execution_count": null,
      "outputs": [
        {
          "output_type": "display_data",
          "data": {
            "text/plain": "<IPython.core.display.Javascript object>",
            "application/javascript": "parent.postMessage({\"jupyterEvent\": \"custom.exercise_interaction\", \"data\": {\"outcomeType\": 1, \"valueTowardsCompletion\": 0.16666666666666666, \"interactionType\": 1, \"questionType\": 2, \"questionId\": \"3_CandySmashingFunctionProblem\", \"learnToolsVersion\": \"0.3.4\", \"failureMessage\": \"\", \"exceptionClass\": \"\", \"trace\": \"\"}}, \"*\")"
          },
          "metadata": {}
        },
        {
          "output_type": "display_data",
          "data": {
            "text/plain": "Correct",
            "text/markdown": "<span style=\"color:#33cc33\">Correct</span>"
          },
          "metadata": {}
        }
      ]
    },
    {
      "cell_type": "code",
      "source": [
        "#q3.hint()"
      ],
      "metadata": {
        "execution": {
          "iopub.status.busy": "2024-03-31T22:19:12.893768Z",
          "iopub.execute_input": "2024-03-31T22:19:12.894567Z",
          "iopub.status.idle": "2024-03-31T22:19:12.901589Z",
          "shell.execute_reply.started": "2024-03-31T22:19:12.894531Z",
          "shell.execute_reply": "2024-03-31T22:19:12.900704Z"
        },
        "trusted": true,
        "id": "4hwAbNqgnnA4",
        "outputId": "cf7a150d-eede-4f47-d990-0547da20070e"
      },
      "execution_count": null,
      "outputs": [
        {
          "output_type": "display_data",
          "data": {
            "text/plain": "<IPython.core.display.Javascript object>",
            "application/javascript": "parent.postMessage({\"jupyterEvent\": \"custom.exercise_interaction\", \"data\": {\"interactionType\": 2, \"questionType\": 2, \"questionId\": \"3_CandySmashingFunctionProblem\", \"learnToolsVersion\": \"0.3.4\", \"valueTowardsCompletion\": 0.0, \"failureMessage\": \"\", \"exceptionClass\": \"\", \"trace\": \"\", \"outcomeType\": 4}}, \"*\")"
          },
          "metadata": {}
        },
        {
          "output_type": "display_data",
          "data": {
            "text/plain": "Hint: Refer to the section of the last tutorial notebook where we talked about default arguments",
            "text/markdown": "<span style=\"color:#3366cc\">Hint:</span> Refer to the section of the last tutorial notebook where we talked about default arguments"
          },
          "metadata": {}
        }
      ]
    },
    {
      "cell_type": "code",
      "source": [
        "#q3.solution()"
      ],
      "metadata": {
        "id": "7Xzyvi7-nnA4"
      },
      "execution_count": null,
      "outputs": []
    },
    {
      "cell_type": "markdown",
      "source": [
        "# 4. (Optional)\n",
        "\n",
        "It may not be fun, but reading and understanding error messages will be an important part of your Python career.\n",
        "\n",
        "Each code cell below contains some commented buggy code. For each cell...\n",
        "\n",
        "1. Read the code and predict what you think will happen when it's run.\n",
        "2. Then uncomment the code and run it to see what happens. (**Tip**: In the kernel editor, you can highlight several lines and press `ctrl`+`/` to toggle commenting.)\n",
        "3. Fix the code (so that it accomplishes its intended purpose without throwing an exception)\n",
        "\n",
        "<!-- TODO: should this be autochecked? Delta is probably pretty small. -->"
      ],
      "metadata": {
        "id": "ZsM1IsnFnnA4"
      }
    },
    {
      "cell_type": "code",
      "source": [
        "# ruound_to_two_places(9.9999)\n",
        "round_to_two_places(9.9999)"
      ],
      "metadata": {
        "execution": {
          "iopub.status.busy": "2024-03-31T22:22:06.587721Z",
          "iopub.execute_input": "2024-03-31T22:22:06.588215Z",
          "iopub.status.idle": "2024-03-31T22:22:06.594481Z",
          "shell.execute_reply.started": "2024-03-31T22:22:06.588183Z",
          "shell.execute_reply": "2024-03-31T22:22:06.593624Z"
        },
        "trusted": true,
        "id": "lavSp-qhnnA4",
        "outputId": "bbd59225-7c3b-4305-a4d6-7bf6d9a9ed33"
      },
      "execution_count": null,
      "outputs": [
        {
          "execution_count": 23,
          "output_type": "execute_result",
          "data": {
            "text/plain": "10.0"
          },
          "metadata": {}
        }
      ]
    },
    {
      "cell_type": "code",
      "source": [
        "# x = -10\n",
        "# y = 5\n",
        "# # Which of the two variables above has the smallest absolute value?\n",
        "# smallest_abs = min(abs(x, y))\n",
        "smallest_abs = min(abs(x), abs(y))\n",
        "smallest_abs"
      ],
      "metadata": {
        "execution": {
          "iopub.status.busy": "2024-03-31T22:23:46.41825Z",
          "iopub.execute_input": "2024-03-31T22:23:46.418679Z",
          "iopub.status.idle": "2024-03-31T22:23:46.425044Z",
          "shell.execute_reply.started": "2024-03-31T22:23:46.418647Z",
          "shell.execute_reply": "2024-03-31T22:23:46.424012Z"
        },
        "trusted": true,
        "id": "qm4_f51KnnA5",
        "outputId": "13e16592-9cca-4753-b639-df10423b7c74"
      },
      "execution_count": null,
      "outputs": [
        {
          "execution_count": 26,
          "output_type": "execute_result",
          "data": {
            "text/plain": "5"
          },
          "metadata": {}
        }
      ]
    },
    {
      "cell_type": "code",
      "source": [
        "# def f(x):\n",
        "#     y = abs(x)\n",
        "# return y\n",
        "\n",
        "# print(f(5))\n",
        "\n",
        "def f(x):\n",
        "    y = abs(x)\n",
        "    return y\n",
        "\n",
        "print(f(5))"
      ],
      "metadata": {
        "execution": {
          "iopub.status.busy": "2024-03-31T22:25:23.606185Z",
          "iopub.execute_input": "2024-03-31T22:25:23.606635Z",
          "iopub.status.idle": "2024-03-31T22:25:23.614512Z",
          "shell.execute_reply.started": "2024-03-31T22:25:23.606604Z",
          "shell.execute_reply": "2024-03-31T22:25:23.613063Z"
        },
        "trusted": true,
        "id": "z9xerx1-nnA5",
        "outputId": "a42a653f-3e2e-42e7-9417-32ddabb350d6"
      },
      "execution_count": null,
      "outputs": [
        {
          "name": "stdout",
          "text": "5\n",
          "output_type": "stream"
        }
      ]
    },
    {
      "cell_type": "markdown",
      "source": [
        "# Keep Going\n",
        "\n",
        "Nice job with the code. Next up, you'll learn about *conditionals*, which you'll need to **[write interesting programs](https://www.kaggle.com/colinmorris/booleans-and-conditionals)**."
      ],
      "metadata": {
        "id": "alwqghz7nnA5"
      }
    },
    {
      "cell_type": "markdown",
      "source": [
        "---\n",
        "\n",
        "\n",
        "\n",
        "\n",
        "*Have questions or comments? Visit the [course discussion forum](https://www.kaggle.com/learn/python/discussion) to chat with other learners.*"
      ],
      "metadata": {
        "id": "nfgfE5QKnnA5"
      }
    }
  ]
}