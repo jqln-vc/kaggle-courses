{
  "metadata": {
    "kernelspec": {
      "display_name": "Python 3",
      "language": "python",
      "name": "python3"
    },
    "language_info": {
      "name": "python",
      "version": "3.10.13",
      "mimetype": "text/x-python",
      "codemirror_mode": {
        "name": "ipython",
        "version": 3
      },
      "pygments_lexer": "ipython3",
      "nbconvert_exporter": "python",
      "file_extension": ".py"
    },
    "learntools_metadata": {
      "lesson_index": 0,
      "type": "exercise"
    },
    "kaggle": {
      "accelerator": "none",
      "dataSources": [],
      "isInternetEnabled": false,
      "language": "python",
      "sourceType": "notebook",
      "isGpuEnabled": false
    },
    "colab": {
      "provenance": [],
      "include_colab_link": true
    }
  },
  "nbformat_minor": 0,
  "nbformat": 4,
  "cells": [
    {
      "cell_type": "markdown",
      "metadata": {
        "id": "view-in-github",
        "colab_type": "text"
      },
      "source": [
        "<a href=\"https://colab.research.google.com/github/N111N3/kaggle_courses/blob/master/python/exercise1.ipynb\" target=\"_parent\"><img src=\"https://colab.research.google.com/assets/colab-badge.svg\" alt=\"Open In Colab\"/></a>"
      ]
    },
    {
      "cell_type": "markdown",
      "source": [
        "**This notebook is an exercise in the [Python](https://www.kaggle.com/learn/python) course.  You can reference the tutorial at [this link](https://www.kaggle.com/colinmorris/hello-python).**\n",
        "\n",
        "---\n"
      ],
      "metadata": {
        "id": "K5n13BrtfaZw"
      }
    },
    {
      "cell_type": "markdown",
      "source": [
        "Welcome to your first set of Python coding problems.  If this is your first time using Kaggle Notebooks, welcome!\n",
        "\n",
        "Notebooks are composed of blocks (called \"cells\") of text and code. Each of these is editable, though you'll mainly be editing the code cells to answer some questions.\n",
        "\n",
        "To get started, try running the code cell below (by pressing the ► button, or clicking on the cell and pressing ctrl+enter on your keyboard)."
      ],
      "metadata": {
        "id": "Rh9x2QPcfaZ0"
      }
    },
    {
      "cell_type": "code",
      "source": [
        "print(\"You've successfully run some Python code\")\n",
        "print(\"Congratulations!\")"
      ],
      "metadata": {
        "id": "awRGvTpgfaZ1"
      },
      "execution_count": null,
      "outputs": []
    },
    {
      "cell_type": "markdown",
      "source": [
        "Try adding another line of code in the cell above and re-running it.\n",
        "\n",
        "Now let's get a little fancier:  Add a new code cell by clicking on an existing code cell, hitting the escape key, and then hitting the `a` or `b` key.  The `a` key will add a cell above the current cell, and `b` adds a cell below.\n",
        "\n",
        "Great! Now you know how to use Notebooks.\n",
        "\n",
        "Each hands-on exercise starts by setting up our feedback and code checking mechanism. Run the code cell below to do that. Then you'll be ready to move on to question 0."
      ],
      "metadata": {
        "id": "Oyg0cn1afaZ2"
      }
    },
    {
      "cell_type": "code",
      "source": [
        "from learntools.core import binder; binder.bind(globals())\n",
        "from learntools.python.ex1 import *\n",
        "print(\"Setup complete! You're ready to start question 0.\")"
      ],
      "metadata": {
        "_kg_hide-input": true,
        "_kg_hide-output": true,
        "execution": {
          "iopub.status.busy": "2024-03-31T21:38:06.719388Z",
          "iopub.execute_input": "2024-03-31T21:38:06.719835Z",
          "iopub.status.idle": "2024-03-31T21:38:08.194804Z",
          "shell.execute_reply.started": "2024-03-31T21:38:06.719796Z",
          "shell.execute_reply": "2024-03-31T21:38:08.193577Z"
        },
        "trusted": true,
        "id": "uqTLlYmEfaZ2",
        "outputId": "2773a19b-821a-4ab1-a440-6692b71b5ee5"
      },
      "execution_count": null,
      "outputs": [
        {
          "name": "stdout",
          "text": "Setup complete! You're ready to start question 0.\n",
          "output_type": "stream"
        }
      ]
    },
    {
      "cell_type": "markdown",
      "source": [
        "# 0.\n",
        "\n",
        "*This is a silly question intended as an introduction to the format we use for hands-on exercises throughout all Kaggle courses.*\n",
        "\n",
        "**What is your favorite color? **\n",
        "\n",
        "To complete this question, create a variable called `color` in the cell below with an appropriate value. The function call `q0.check()` (which we've already provided in the cell below) will check your answer."
      ],
      "metadata": {
        "id": "5oaXoN9zfaZ4"
      }
    },
    {
      "cell_type": "code",
      "source": [
        "# create a variable called color with an appropriate value on the line below\n",
        "# (Remember, strings in Python must be enclosed in 'single' or \"double\" quotes)\n",
        "color = 'blue'\n",
        "\n",
        "# Check your answer\n",
        "q0.check()"
      ],
      "metadata": {
        "execution": {
          "iopub.status.busy": "2024-03-31T21:38:18.206723Z",
          "iopub.execute_input": "2024-03-31T21:38:18.207135Z",
          "iopub.status.idle": "2024-03-31T21:38:18.220506Z",
          "shell.execute_reply.started": "2024-03-31T21:38:18.207102Z",
          "shell.execute_reply": "2024-03-31T21:38:18.219122Z"
        },
        "trusted": true,
        "id": "3Lxg5ocefaZ5",
        "outputId": "4eac93d7-7b1e-46d1-b09b-61e0a84a39a9"
      },
      "execution_count": null,
      "outputs": [
        {
          "output_type": "display_data",
          "data": {
            "text/plain": "<IPython.core.display.Javascript object>",
            "application/javascript": "parent.postMessage({\"jupyterEvent\": \"custom.exercise_interaction\", \"data\": {\"outcomeType\": 1, \"valueTowardsCompletion\": 0.25, \"interactionType\": 1, \"questionType\": 2, \"questionId\": \"0_ExerciseFormatTutorial\", \"learnToolsVersion\": \"0.3.4\", \"failureMessage\": \"\", \"exceptionClass\": \"\", \"trace\": \"\"}}, \"*\")"
          },
          "metadata": {}
        },
        {
          "output_type": "display_data",
          "data": {
            "text/plain": "Correct: What?! You got it right without needing a hint or anything? Drats. Well hey, you should still continue to the next step to get some practice asking for a hint and checking solutions. (Even though you obviously don't need any help here.)",
            "text/markdown": "<span style=\"color:#33cc33\">Correct:</span> What?! You got it right without needing a hint or anything? Drats. Well hey, you should still continue to the next step to get some practice asking for a hint and checking solutions. (Even though you obviously don't need any help here.)"
          },
          "metadata": {}
        }
      ]
    },
    {
      "cell_type": "markdown",
      "source": [
        "Didn't get the right answer? How do you not even know your own favorite color?!\n",
        "\n",
        "Delete the `#` in the line below to make one of the lines run. You can choose between getting a hint or the full answer by choosing which line to remove the `#` from.\n",
        "\n",
        "Removing the `#` is called uncommenting, because it changes that line from a \"comment\" which Python doesn't run to code, which Python does run."
      ],
      "metadata": {
        "id": "1wOFqco7faZ5"
      }
    },
    {
      "cell_type": "code",
      "source": [
        "#q0.hint()\n",
        "#q0.solution()"
      ],
      "metadata": {
        "id": "k6dnfwY7faZ6"
      },
      "execution_count": null,
      "outputs": []
    },
    {
      "cell_type": "markdown",
      "source": [
        "The upcoming questions work the same way. The only thing that will change are the question numbers. For the next question, you'll call `q1.check()`, `q1.hint()`, `q1.solution()`, for question 2, you'll call `q2.check()`, and so on."
      ],
      "metadata": {
        "id": "8mJUyTRhfaZ6"
      }
    },
    {
      "cell_type": "markdown",
      "source": [
        "<hr/>\n",
        "\n",
        "# 1.\n",
        "\n",
        "Complete the code below. In case it's helpful, here is the table of available arithmetic operations:\n",
        "\n",
        "\n",
        "\n",
        "| Operator     | Name           | Description                                            |\n",
        "|--------------|----------------|--------------------------------------------------------|\n",
        "| ``a + b``    | Addition       | Sum of ``a`` and ``b``                                 |\n",
        "| ``a - b``    | Subtraction    | Difference of ``a`` and ``b``                          |\n",
        "| ``a * b``    | Multiplication | Product of ``a`` and ``b``                             |\n",
        "| ``a / b``    | True division  | Quotient of ``a`` and ``b``                            |\n",
        "| ``a // b``   | Floor division | Quotient of ``a`` and ``b``, removing fractional parts |\n",
        "| ``a % b``    | Modulus        | Integer remainder after division of ``a`` by ``b``     |\n",
        "| ``a ** b``   | Exponentiation | ``a`` raised to the power of ``b``                     |\n",
        "| ``-a``       | Negation       | The negative of ``a``                                  |\n",
        "\n",
        "<span style=\"display:none\"></span>\n"
      ],
      "metadata": {
        "id": "VrK29m1ufaZ7"
      }
    },
    {
      "cell_type": "code",
      "source": [
        "pi = 3.14159 # approximate\n",
        "diameter = 3\n",
        "\n",
        "# Create a variable called 'radius' equal to half the diameter\n",
        "radius = (1/2) * diameter\n",
        "\n",
        "# Create a variable called 'area', using the formula for the area of a circle: pi times the radius squared\n",
        "area = pi * (radius**2)\n",
        "\n",
        "# Check your answer\n",
        "q1.check()"
      ],
      "metadata": {
        "execution": {
          "iopub.status.busy": "2024-03-31T21:39:39.733141Z",
          "iopub.execute_input": "2024-03-31T21:39:39.733595Z",
          "iopub.status.idle": "2024-03-31T21:39:39.747103Z",
          "shell.execute_reply.started": "2024-03-31T21:39:39.73356Z",
          "shell.execute_reply": "2024-03-31T21:39:39.745396Z"
        },
        "trusted": true,
        "id": "mvqlvVl1faZ7",
        "outputId": "f77e37c8-5bdd-4048-c746-abb3454cee6d"
      },
      "execution_count": null,
      "outputs": [
        {
          "output_type": "display_data",
          "data": {
            "text/plain": "<IPython.core.display.Javascript object>",
            "application/javascript": "parent.postMessage({\"jupyterEvent\": \"custom.exercise_interaction\", \"data\": {\"outcomeType\": 1, \"valueTowardsCompletion\": 0.25, \"interactionType\": 1, \"questionType\": 1, \"questionId\": \"1_CircleArea\", \"learnToolsVersion\": \"0.3.4\", \"failureMessage\": \"\", \"exceptionClass\": \"\", \"trace\": \"\"}}, \"*\")"
          },
          "metadata": {}
        },
        {
          "output_type": "display_data",
          "data": {
            "text/plain": "Correct",
            "text/markdown": "<span style=\"color:#33cc33\">Correct</span>"
          },
          "metadata": {}
        }
      ]
    },
    {
      "cell_type": "code",
      "source": [
        "# Uncomment and run the lines below if you need help.\n",
        "#q1.hint()\n",
        "#q1.solution()"
      ],
      "metadata": {
        "id": "SeNicPH7faZ7"
      },
      "execution_count": null,
      "outputs": []
    },
    {
      "cell_type": "markdown",
      "source": [
        "<hr/>\n",
        "\n",
        "# 2.\n",
        "\n",
        "Add code to the following cell to swap variables `a` and `b` (so that `a` refers to the object previously referred to by `b` and vice versa)."
      ],
      "metadata": {
        "id": "6km87B7cfaZ7"
      }
    },
    {
      "cell_type": "code",
      "source": [
        "########### Setup code - don't touch this part ######################\n",
        "# If you're curious, these are examples of lists. We'll talk about\n",
        "# them in depth a few lessons from now. For now, just know that they're\n",
        "# yet another type of Python object, like int or float.\n",
        "a = [1, 2, 3]\n",
        "b = [3, 2, 1]\n",
        "q2.store_original_ids()\n",
        "######################################################################\n",
        "\n",
        "# Your code goes here. Swap the values to which a and b refer.\n",
        "# If you get stuck, you can always uncomment one or both of the lines in\n",
        "# the next cell for a hint, or to peek at the solution.\n",
        "\n",
        "a, b = b, a\n",
        "######################################################################\n",
        "\n",
        "# Check your answer\n",
        "q2.check()"
      ],
      "metadata": {
        "execution": {
          "iopub.status.busy": "2024-03-31T21:40:38.736337Z",
          "iopub.execute_input": "2024-03-31T21:40:38.736752Z",
          "iopub.status.idle": "2024-03-31T21:40:38.746542Z",
          "shell.execute_reply.started": "2024-03-31T21:40:38.73672Z",
          "shell.execute_reply": "2024-03-31T21:40:38.745631Z"
        },
        "trusted": true,
        "id": "H4qbz0nyfaZ8",
        "outputId": "3d4bf676-4ca0-4f36-f93c-34823e64ee84"
      },
      "execution_count": null,
      "outputs": [
        {
          "output_type": "display_data",
          "data": {
            "text/plain": "<IPython.core.display.Javascript object>",
            "application/javascript": "parent.postMessage({\"jupyterEvent\": \"custom.exercise_interaction\", \"data\": {\"outcomeType\": 1, \"valueTowardsCompletion\": 0.25, \"interactionType\": 1, \"questionType\": 2, \"questionId\": \"2_VariableSwap\", \"learnToolsVersion\": \"0.3.4\", \"failureMessage\": \"\", \"exceptionClass\": \"\", \"trace\": \"\"}}, \"*\")"
          },
          "metadata": {}
        },
        {
          "output_type": "display_data",
          "data": {
            "text/plain": "Correct: \n\nThe most straightforward solution is to use a third variable to temporarily store one of the old values. e.g.:\n\n    tmp = a\n    a = b\n    b = tmp\n\nIf you've read lots of Python code, you might have seen the following trick to swap two variables in one line:\n\n    a, b = b, a\n\nWe'll demystify this bit of Python magic later when we talk about *tuples*.",
            "text/markdown": "<span style=\"color:#33cc33\">Correct:</span> \n\nThe most straightforward solution is to use a third variable to temporarily store one of the old values. e.g.:\n\n    tmp = a\n    a = b\n    b = tmp\n\nIf you've read lots of Python code, you might have seen the following trick to swap two variables in one line:\n\n    a, b = b, a\n\nWe'll demystify this bit of Python magic later when we talk about *tuples*."
          },
          "metadata": {}
        }
      ]
    },
    {
      "cell_type": "code",
      "source": [
        "#q2.hint()"
      ],
      "metadata": {
        "id": "IcO_QtWWfaZ8"
      },
      "execution_count": null,
      "outputs": []
    },
    {
      "cell_type": "code",
      "source": [
        "#q2.solution()"
      ],
      "metadata": {
        "execution": {
          "iopub.status.busy": "2024-03-31T21:41:30.337374Z",
          "iopub.execute_input": "2024-03-31T21:41:30.337837Z",
          "iopub.status.idle": "2024-03-31T21:41:30.345447Z",
          "shell.execute_reply.started": "2024-03-31T21:41:30.337799Z",
          "shell.execute_reply": "2024-03-31T21:41:30.343727Z"
        },
        "trusted": true,
        "id": "7BwoWcWPfaZ8"
      },
      "execution_count": null,
      "outputs": []
    },
    {
      "cell_type": "markdown",
      "source": [
        "<hr/>\n",
        "\n",
        "# 3a.\n",
        "\n",
        "Add parentheses to the following expression so that it evaluates to 1."
      ],
      "metadata": {
        "id": "xkvkoHpsfaZ9"
      }
    },
    {
      "cell_type": "code",
      "source": [
        "(5 - 3) // 2"
      ],
      "metadata": {
        "execution": {
          "iopub.status.busy": "2024-03-31T21:41:08.066703Z",
          "iopub.execute_input": "2024-03-31T21:41:08.067184Z",
          "iopub.status.idle": "2024-03-31T21:41:08.076943Z",
          "shell.execute_reply.started": "2024-03-31T21:41:08.067144Z",
          "shell.execute_reply": "2024-03-31T21:41:08.075362Z"
        },
        "trusted": true,
        "id": "BvjDVSFBfaZ9",
        "outputId": "d4973e0c-a540-4c5c-9704-545df1a767d5"
      },
      "execution_count": null,
      "outputs": [
        {
          "execution_count": 7,
          "output_type": "execute_result",
          "data": {
            "text/plain": "1"
          },
          "metadata": {}
        }
      ]
    },
    {
      "cell_type": "code",
      "source": [
        "#q3.a.hint()"
      ],
      "metadata": {
        "id": "0Bfo9VxzfaZ9"
      },
      "execution_count": null,
      "outputs": []
    },
    {
      "cell_type": "code",
      "source": [
        "# Check your answer (Run this code cell to receive credit!)\n",
        "q3.a.solution()"
      ],
      "metadata": {
        "execution": {
          "iopub.status.busy": "2024-03-31T21:41:15.284282Z",
          "iopub.execute_input": "2024-03-31T21:41:15.284711Z",
          "iopub.status.idle": "2024-03-31T21:41:15.296457Z",
          "shell.execute_reply.started": "2024-03-31T21:41:15.284678Z",
          "shell.execute_reply": "2024-03-31T21:41:15.295032Z"
        },
        "trusted": true,
        "id": "kv8HePh3faZ9",
        "outputId": "7a0122b0-bf23-490b-db7b-a495cccab6a0"
      },
      "execution_count": null,
      "outputs": [
        {
          "output_type": "display_data",
          "data": {
            "text/plain": "<IPython.core.display.Javascript object>",
            "application/javascript": "parent.postMessage({\"jupyterEvent\": \"custom.exercise_interaction\", \"data\": {\"interactionType\": 3, \"questionType\": 4, \"questionId\": \"3.1_ArithmeticParensEasy\", \"learnToolsVersion\": \"0.3.4\", \"valueTowardsCompletion\": 0.0, \"failureMessage\": \"\", \"exceptionClass\": \"\", \"trace\": \"\", \"outcomeType\": 4}}, \"*\")"
          },
          "metadata": {}
        },
        {
          "output_type": "display_data",
          "data": {
            "text/plain": "Solution: \n```python\n(5 - 3) // 2\n```",
            "text/markdown": "<span style=\"color:#33cc99\">Solution:</span> \n```python\n(5 - 3) // 2\n```"
          },
          "metadata": {}
        }
      ]
    },
    {
      "cell_type": "markdown",
      "source": [
        "# 3b.  <span title=\"A bit spicy\" style=\"color: darkgreen \">🌶️</span>\n",
        "\n",
        "<small>Questions, like this one, marked a spicy pepper are a bit harder.</small>\n",
        "\n",
        "Add parentheses to the following expression so that it evaluates to 0."
      ],
      "metadata": {
        "id": "AjejF06WfaZ-"
      }
    },
    {
      "cell_type": "code",
      "source": [
        "(8 - 3) * (2 - (1 + 1))"
      ],
      "metadata": {
        "execution": {
          "iopub.status.busy": "2024-03-31T21:48:30.434507Z",
          "iopub.execute_input": "2024-03-31T21:48:30.435242Z",
          "iopub.status.idle": "2024-03-31T21:48:30.443234Z",
          "shell.execute_reply.started": "2024-03-31T21:48:30.435207Z",
          "shell.execute_reply": "2024-03-31T21:48:30.441971Z"
        },
        "trusted": true,
        "id": "wHJqo6T1faZ-",
        "outputId": "361e93be-9974-4ca2-858e-67abd367eacc"
      },
      "execution_count": null,
      "outputs": [
        {
          "execution_count": 16,
          "output_type": "execute_result",
          "data": {
            "text/plain": "0"
          },
          "metadata": {}
        }
      ]
    },
    {
      "cell_type": "code",
      "source": [
        "#q3.b.hint()"
      ],
      "metadata": {
        "id": "QuilPB6IfaZ-"
      },
      "execution_count": null,
      "outputs": []
    },
    {
      "cell_type": "code",
      "source": [
        "# Check your answer (Run this code cell to receive credit!)\n",
        "q3.b.solution()"
      ],
      "metadata": {
        "execution": {
          "iopub.status.busy": "2024-03-31T21:48:34.251394Z",
          "iopub.execute_input": "2024-03-31T21:48:34.251785Z",
          "iopub.status.idle": "2024-03-31T21:48:34.262772Z",
          "shell.execute_reply.started": "2024-03-31T21:48:34.251754Z",
          "shell.execute_reply": "2024-03-31T21:48:34.261353Z"
        },
        "trusted": true,
        "id": "JjtLQMDmfaZ-",
        "outputId": "cce4669f-a379-4a4e-dfa4-45f45a5b161d"
      },
      "execution_count": null,
      "outputs": [
        {
          "output_type": "display_data",
          "data": {
            "text/plain": "<IPython.core.display.Javascript object>",
            "application/javascript": "parent.postMessage({\"jupyterEvent\": \"custom.exercise_interaction\", \"data\": {\"interactionType\": 3, \"questionType\": 4, \"questionId\": \"3.2_ArithmeticParensHard\", \"learnToolsVersion\": \"0.3.4\", \"valueTowardsCompletion\": 0.0, \"failureMessage\": \"\", \"exceptionClass\": \"\", \"trace\": \"\", \"outcomeType\": 4}}, \"*\")"
          },
          "metadata": {}
        },
        {
          "output_type": "display_data",
          "data": {
            "text/plain": "Solution: `(8 - 3) * (2 - (1 + 1))` is one solution. There may be others.",
            "text/markdown": "<span style=\"color:#33cc99\">Solution:</span> `(8 - 3) * (2 - (1 + 1))` is one solution. There may be others."
          },
          "metadata": {}
        }
      ]
    },
    {
      "cell_type": "markdown",
      "source": [
        "<hr/>\n",
        "\n",
        "# 4.\n",
        "Alice, Bob and Carol have agreed to pool their Halloween candy and split it evenly among themselves.\n",
        "For the sake of their friendship, any candies left over will be smashed. For example, if they collectively\n",
        "bring home 91 candies, they'll take 30 each and smash 1.\n",
        "\n",
        "Write an arithmetic expression below to calculate how many candies they must smash for a given haul."
      ],
      "metadata": {
        "id": "3sYrUDZZfaZ-"
      }
    },
    {
      "cell_type": "code",
      "source": [
        "# Variables representing the number of candies collected by alice, bob, and carol\n",
        "alice_candies = 121\n",
        "bob_candies = 77\n",
        "carol_candies = 109\n",
        "\n",
        "# Your code goes here! Replace the right-hand side of this assignment with an expression\n",
        "# involving alice_candies, bob_candies, and carol_candies\n",
        "to_smash = (alice_candies + bob_candies )\n",
        "\n",
        "# Check your answer\n",
        "q4.check()"
      ],
      "metadata": {
        "id": "zawYfTk0faZ-"
      },
      "execution_count": null,
      "outputs": []
    },
    {
      "cell_type": "code",
      "source": [
        "#q4.hint()\n",
        "#q4.solution()"
      ],
      "metadata": {
        "id": "dV-gIfNOfaZ_"
      },
      "execution_count": null,
      "outputs": []
    },
    {
      "cell_type": "markdown",
      "source": [
        "# Keep Going\n",
        "\n",
        "Next up, you'll **[learn to write new functions and understand functions others write](https://www.kaggle.com/colinmorris/functions-and-getting-help)**. This will make you at least 10 times more productive as a Python programmer."
      ],
      "metadata": {
        "id": "YStPpIHefaZ_"
      }
    },
    {
      "cell_type": "markdown",
      "source": [
        "---\n",
        "\n",
        "\n",
        "\n",
        "\n",
        "*Have questions or comments? Visit the [course discussion forum](https://www.kaggle.com/learn/python/discussion) to chat with other learners.*"
      ],
      "metadata": {
        "id": "Mda_sJsNfaZ_"
      }
    }
  ]
}