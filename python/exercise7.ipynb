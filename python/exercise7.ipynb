{
  "metadata": {
    "kernelspec": {
      "display_name": "Python 3",
      "language": "python",
      "name": "python3"
    },
    "language_info": {
      "name": "python",
      "version": "3.10.13",
      "mimetype": "text/x-python",
      "codemirror_mode": {
        "name": "ipython",
        "version": 3
      },
      "pygments_lexer": "ipython3",
      "nbconvert_exporter": "python",
      "file_extension": ".py"
    },
    "learntools_metadata": {
      "lesson_index": 6,
      "type": "exercise"
    },
    "kaggle": {
      "accelerator": "none",
      "dataSources": [],
      "isInternetEnabled": false,
      "language": "python",
      "sourceType": "notebook",
      "isGpuEnabled": false
    },
    "colab": {
      "provenance": [],
      "include_colab_link": true
    }
  },
  "nbformat_minor": 0,
  "nbformat": 4,
  "cells": [
    {
      "cell_type": "markdown",
      "metadata": {
        "id": "view-in-github",
        "colab_type": "text"
      },
      "source": [
        "<a href=\"https://colab.research.google.com/github/N111N3/kaggle_courses/blob/master/python/exercise7.ipynb\" target=\"_parent\"><img src=\"https://colab.research.google.com/assets/colab-badge.svg\" alt=\"Open In Colab\"/></a>"
      ]
    },
    {
      "cell_type": "markdown",
      "source": [
        "**This notebook is an exercise in the [Python](https://www.kaggle.com/learn/python) course.  You can reference the tutorial at [this link](https://www.kaggle.com/colinmorris/working-with-external-libraries).**\n",
        "\n",
        "---\n"
      ],
      "metadata": {
        "id": "zR-g0VZwBPfX"
      }
    },
    {
      "cell_type": "markdown",
      "source": [
        "# Try It Yourself\n",
        "\n",
        "There are only three problems in this last set of exercises, but they're all pretty tricky, so be on guard!\n",
        "\n",
        "Run the setup code below before working on the questions."
      ],
      "metadata": {
        "id": "Ub1J8PG1BPfa"
      }
    },
    {
      "cell_type": "code",
      "source": [
        "from learntools.core import binder; binder.bind(globals())\n",
        "from learntools.python.ex7 import *\n",
        "print('Setup complete.')"
      ],
      "metadata": {
        "execution": {
          "iopub.status.busy": "2024-04-01T13:50:39.224062Z",
          "iopub.execute_input": "2024-04-01T13:50:39.2253Z",
          "iopub.status.idle": "2024-04-01T13:50:40.588365Z",
          "shell.execute_reply.started": "2024-04-01T13:50:39.225247Z",
          "shell.execute_reply": "2024-04-01T13:50:40.587229Z"
        },
        "trusted": true,
        "id": "tT-oGz42BPfb"
      },
      "execution_count": null,
      "outputs": []
    },
    {
      "cell_type": "markdown",
      "source": [
        "# 1.\n",
        "\n",
        "After completing the exercises on lists and tuples, Jimmy noticed that, according to his `estimate_average_slot_payout` function, the slot machines at the Learn Python Casino are actually rigged *against* the house, and are profitable to play in the long run.\n",
        "\n",
        "Starting with $200 in his pocket, Jimmy has played the slots 500 times, recording his new balance in a list after each spin. He used Python's `matplotlib` library to make a graph of his balance over time:"
      ],
      "metadata": {
        "id": "i9JaoBsnBPfc"
      }
    },
    {
      "cell_type": "code",
      "source": [
        "# Import the jimmy_slots submodule\n",
        "from learntools.python import jimmy_slots\n",
        "# Call the get_graph() function to get Jimmy's graph\n",
        "graph = jimmy_slots.get_graph()\n",
        "graph"
      ],
      "metadata": {
        "execution": {
          "iopub.status.busy": "2024-04-01T13:50:40.590938Z",
          "iopub.execute_input": "2024-04-01T13:50:40.591425Z",
          "iopub.status.idle": "2024-04-01T13:50:40.938912Z",
          "shell.execute_reply.started": "2024-04-01T13:50:40.591393Z",
          "shell.execute_reply": "2024-04-01T13:50:40.937564Z"
        },
        "trusted": true,
        "id": "R0wxuuhbBPfc"
      },
      "execution_count": null,
      "outputs": []
    },
    {
      "cell_type": "markdown",
      "source": [
        "As you can see, he's hit a bit of bad luck recently. He wants to tweet this along with some choice emojis, but, as it looks right now, his followers will probably find it confusing. He's asked if you can help him make the following changes:\n",
        "\n",
        "1. Add the title \"Results of 500 slot machine pulls\"\n",
        "2. Make the y-axis start at 0.\n",
        "3. Add the label \"Balance\" to the y-axis\n",
        "\n",
        "After calling `type(graph)` you see that Jimmy's graph is of type `matplotlib.axes._subplots.AxesSubplot`. Hm, that's a new one. By calling `dir(graph)`, you find three methods that seem like they'll be useful: `.set_title()`, `.set_ylim()`, and `.set_ylabel()`.\n",
        "\n",
        "Use these methods to complete the function `prettify_graph` according to Jimmy's requests. We've already checked off the first request for you (setting a title).\n",
        "\n",
        "(Remember: if you don't know what these methods do, use the `help()` function!)"
      ],
      "metadata": {
        "id": "3_Ba7KQuBPfd"
      }
    },
    {
      "cell_type": "code",
      "source": [
        "graph.get_yticks()"
      ],
      "metadata": {
        "execution": {
          "iopub.status.busy": "2024-04-01T13:50:40.973957Z",
          "iopub.execute_input": "2024-04-01T13:50:40.97431Z",
          "iopub.status.idle": "2024-04-01T13:50:40.987183Z",
          "shell.execute_reply.started": "2024-04-01T13:50:40.974239Z",
          "shell.execute_reply": "2024-04-01T13:50:40.985941Z"
        },
        "trusted": true,
        "id": "PFjYQQW4BPfd"
      },
      "execution_count": null,
      "outputs": []
    },
    {
      "cell_type": "code",
      "source": [
        "def prettify_graph(graph):\n",
        "    \"\"\"Modify the given graph according to Jimmy's requests: add a title, make the y-axis\n",
        "    start at 0, label the y-axis. (And, if you're feeling ambitious, format the tick marks\n",
        "    as dollar amounts using the \"$\" symbol.)\n",
        "    \"\"\"\n",
        "    graph.set_title(\"Results of 500 slot machine pulls\")\n",
        "    graph.set_ylim(bottom=0)\n",
        "    graph.set_ylabel(\"Balance\")\n",
        "\n",
        "    new_labels = ['${}'.format(int(tick)) for tick in graph.get_yticks()]\n",
        "    graph.set_yticklabels(new_labels)\n",
        "\n",
        "graph = jimmy_slots.get_graph()\n",
        "prettify_graph(graph)\n",
        "graph"
      ],
      "metadata": {
        "execution": {
          "iopub.status.busy": "2024-04-01T13:50:40.988894Z",
          "iopub.execute_input": "2024-04-01T13:50:40.989563Z",
          "iopub.status.idle": "2024-04-01T13:50:41.346567Z",
          "shell.execute_reply.started": "2024-04-01T13:50:40.98953Z",
          "shell.execute_reply": "2024-04-01T13:50:41.345255Z"
        },
        "trusted": true,
        "id": "pLWYPVYcBPfe"
      },
      "execution_count": null,
      "outputs": []
    },
    {
      "cell_type": "markdown",
      "source": [
        "**Bonus:** Can you format the numbers on the y-axis so they look like dollar amounts? e.g. $200 instead of just 200.\n",
        "\n",
        "(We're not going to tell you what method(s) to use here. You'll need to go digging yourself with `dir(graph)` and/or `help(graph)`.)"
      ],
      "metadata": {
        "id": "wM_agmkzBPfe"
      }
    },
    {
      "cell_type": "code",
      "source": [
        "# Check your answer (Run this code cell to receive credit!)\n",
        "q1.solution()"
      ],
      "metadata": {
        "execution": {
          "iopub.status.busy": "2024-04-01T13:51:07.174368Z",
          "iopub.execute_input": "2024-04-01T13:51:07.175201Z",
          "iopub.status.idle": "2024-04-01T13:51:07.187074Z",
          "shell.execute_reply.started": "2024-04-01T13:51:07.175148Z",
          "shell.execute_reply": "2024-04-01T13:51:07.185361Z"
        },
        "trusted": true,
        "id": "F71ozNXoBPfe"
      },
      "execution_count": null,
      "outputs": []
    },
    {
      "cell_type": "markdown",
      "source": [
        "# 2. <span title=\"Spicy\" style=\"color: coral\">🌶️🌶️</span>\n",
        "\n",
        "This is a very challenging problem.  Don't forget that you can receive a hint!\n",
        "\n",
        "Luigi is trying to perform an analysis to determine the best items for winning races on the Mario Kart circuit. He has some data in the form of lists of dictionaries that look like...\n",
        "\n",
        "    [\n",
        "        {'name': 'Peach', 'items': ['green shell', 'banana', 'green shell',], 'finish': 3},\n",
        "        {'name': 'Bowser', 'items': ['green shell',], 'finish': 1},\n",
        "        # Sometimes the racer's name wasn't recorded\n",
        "        {'name': None, 'items': ['mushroom',], 'finish': 2},\n",
        "        {'name': 'Toad', 'items': ['green shell', 'mushroom'], 'finish': 1},\n",
        "    ]\n",
        "\n",
        "`'items'` is a list of all the power-up items the racer picked up in that race, and `'finish'` was their placement in the race (1 for first place, 3 for third, etc.).\n",
        "\n",
        "He wrote the function below to take a list like this and return a dictionary mapping each item to how many times it was picked up by first-place finishers."
      ],
      "metadata": {
        "id": "sc9OTk0VBPff"
      }
    },
    {
      "cell_type": "code",
      "source": [
        "def best_items(racers):\n",
        "    \"\"\"Given a list of racer dictionaries, return a dictionary mapping items to the number\n",
        "    of times those items were picked up by racers who finished in first place.\n",
        "    \"\"\"\n",
        "    winner_item_counts = {}\n",
        "    for i in range(len(racers)):\n",
        "        # The i'th racer dictionary\n",
        "        racer = racers[i]\n",
        "        # We're only interested in racers who finished in first\n",
        "        if racer['finish'] == 1:\n",
        "            for i in racer['items']:\n",
        "                # Add one to the count for this item (adding it to the dict if necessary)\n",
        "                if i not in winner_item_counts:\n",
        "                    winner_item_counts[i] = 0\n",
        "                winner_item_counts[i] += 1\n",
        "\n",
        "        # Data quality issues :/ Print a warning about racers with no name set. We'll take care of it later.\n",
        "        if racer['name'] is None:\n",
        "            print(\"WARNING: Encountered racer with unknown name on iteration {}/{} (racer = {})\".format(\n",
        "                i+1, len(racers), racer['name'])\n",
        "                 )\n",
        "    return winner_item_counts"
      ],
      "metadata": {
        "execution": {
          "iopub.status.busy": "2024-04-01T13:51:12.725756Z",
          "iopub.execute_input": "2024-04-01T13:51:12.72613Z",
          "iopub.status.idle": "2024-04-01T13:51:12.735195Z",
          "shell.execute_reply.started": "2024-04-01T13:51:12.726099Z",
          "shell.execute_reply": "2024-04-01T13:51:12.733447Z"
        },
        "trusted": true,
        "id": "4QSdTiaJBPff"
      },
      "execution_count": null,
      "outputs": []
    },
    {
      "cell_type": "markdown",
      "source": [
        "He tried it on a small example list above and it seemed to work correctly:"
      ],
      "metadata": {
        "id": "j_g2-ZGMBPff"
      }
    },
    {
      "cell_type": "code",
      "source": [
        "sample = [\n",
        "    {'name': 'Peach', 'items': ['green shell', 'banana', 'green shell',], 'finish': 3},\n",
        "    {'name': 'Bowser', 'items': ['green shell',], 'finish': 1},\n",
        "    {'name': None, 'items': ['mushroom',], 'finish': 2},\n",
        "    {'name': 'Toad', 'items': ['green shell', 'mushroom'], 'finish': 1},\n",
        "]\n",
        "best_items(sample)"
      ],
      "metadata": {
        "execution": {
          "iopub.status.busy": "2024-04-01T13:51:16.107066Z",
          "iopub.execute_input": "2024-04-01T13:51:16.107519Z",
          "iopub.status.idle": "2024-04-01T13:51:16.119171Z",
          "shell.execute_reply.started": "2024-04-01T13:51:16.107477Z",
          "shell.execute_reply": "2024-04-01T13:51:16.11786Z"
        },
        "trusted": true,
        "id": "iZGqDN-kBPff"
      },
      "execution_count": null,
      "outputs": []
    },
    {
      "cell_type": "markdown",
      "source": [
        "However, when he tried running it on his full dataset, the program crashed with a `TypeError`.\n",
        "\n",
        "Can you guess why? Try running the code cell below to see the error message Luigi is getting. Once you've identified the bug, fix it in the cell below (so that it runs without any errors).\n",
        "\n",
        "Hint: Luigi's bug is similar to one we encountered in the [tutorial](https://www.kaggle.com/colinmorris/working-with-external-libraries) when we talked about star imports."
      ],
      "metadata": {
        "id": "KT3288QOBPfg"
      }
    },
    {
      "cell_type": "code",
      "source": [
        "# Import luigi's full dataset of race data\n",
        "from learntools.python.luigi_analysis import full_dataset\n",
        "\n",
        "# Fix me!\n",
        "def best_items(racers):\n",
        "    winner_item_counts = {}\n",
        "    for entry in range(len(racers)):\n",
        "        # The i'th racer dictionary\n",
        "        racer = racers[entry]\n",
        "        # We're only interested in racers who finished in first\n",
        "        if racer['finish'] == 1:\n",
        "            for item in racer['items']:\n",
        "                # Add one to the count for this item (adding it to the dict if necessary)\n",
        "                if item not in winner_item_counts:\n",
        "                    winner_item_counts[item] = 0\n",
        "                winner_item_counts[item] += 1\n",
        "\n",
        "        # Data quality issues :/ Print a warning about racers with no name set. We'll take care of it later.\n",
        "        if racer['name'] is None:\n",
        "            print(\"WARNING: Encountered racer with unknown name on iteration {}/{} (racer = {})\".format(\n",
        "                entry+1, len(racers), racer['name'])\n",
        "                 )\n",
        "            continue\n",
        "    return winner_item_counts\n",
        "\n",
        "# Try analyzing the imported full dataset\n",
        "best_items(full_dataset)"
      ],
      "metadata": {
        "tags": [
          "raises-exception"
        ],
        "execution": {
          "iopub.status.busy": "2024-04-01T13:51:22.25339Z",
          "iopub.execute_input": "2024-04-01T13:51:22.253895Z",
          "iopub.status.idle": "2024-04-01T13:51:22.266392Z",
          "shell.execute_reply.started": "2024-04-01T13:51:22.253859Z",
          "shell.execute_reply": "2024-04-01T13:51:22.265553Z"
        },
        "trusted": true,
        "id": "ZmoXRSuaBPfg"
      },
      "execution_count": null,
      "outputs": []
    },
    {
      "cell_type": "code",
      "source": [
        "#q2.hint()"
      ],
      "metadata": {
        "execution": {
          "iopub.status.busy": "2024-04-01T13:50:41.424656Z",
          "iopub.execute_input": "2024-04-01T13:50:41.425345Z",
          "iopub.status.idle": "2024-04-01T13:50:41.445407Z",
          "shell.execute_reply.started": "2024-04-01T13:50:41.425303Z",
          "shell.execute_reply": "2024-04-01T13:50:41.443921Z"
        },
        "trusted": true,
        "id": "ws8BZrSgBPfg"
      },
      "execution_count": null,
      "outputs": []
    },
    {
      "cell_type": "code",
      "source": [
        "# Check your answer (Run this code cell to receive credit!)\n",
        "q2.solution()"
      ],
      "metadata": {
        "execution": {
          "iopub.status.busy": "2024-04-01T13:51:41.637057Z",
          "iopub.execute_input": "2024-04-01T13:51:41.637419Z",
          "iopub.status.idle": "2024-04-01T13:51:41.647591Z",
          "shell.execute_reply.started": "2024-04-01T13:51:41.637391Z",
          "shell.execute_reply": "2024-04-01T13:51:41.646259Z"
        },
        "trusted": true,
        "id": "X0bqfZ_UBPfg"
      },
      "execution_count": null,
      "outputs": []
    },
    {
      "cell_type": "markdown",
      "source": [
        "# 3. <span title=\"A bit spicy\" style=\"color: darkgreen \">🌶️</span>\n",
        "\n",
        "Suppose we wanted to create a new type to represent hands in blackjack. One thing we might want to do with this type is overload the comparison operators like `>` and `<=` so that we could use them to check whether one hand beats another. e.g. it'd be cool if we could do this:\n",
        "\n",
        "```python\n",
        ">>> hand1 = BlackjackHand(['K', 'A'])\n",
        ">>> hand2 = BlackjackHand(['7', '10', 'A'])\n",
        ">>> hand1 > hand2\n",
        "True\n",
        "```\n",
        "\n",
        "Well, we're not going to do all that in this question (defining custom classes is a bit beyond the scope of these lessons), but the code we're asking you to write in the function below is very similar to what we'd have to write if we were defining our own `BlackjackHand` class. (We'd put it in the `__gt__` magic method to define our custom behaviour for `>`.)\n",
        "\n",
        "Fill in the body of the `blackjack_hand_greater_than` function according to the docstring."
      ],
      "metadata": {
        "id": "z3nY2pxVBPfg"
      }
    },
    {
      "cell_type": "code",
      "source": [
        "def count_hand(hand):\n",
        "    ace = 0\n",
        "    part_sum = 0\n",
        "    total_sum = 0\n",
        "\n",
        "\n",
        "    for card in hand:\n",
        "        if card in ['K','J','Q']:\n",
        "            part_sum += 10\n",
        "        elif card == 'A':\n",
        "            ace += 1\n",
        "        else:\n",
        "            part_sum += int(card)\n",
        "\n",
        "    if ace == 1 and part_sum <= 10:\n",
        "        total_sum = part_sum + 11\n",
        "    elif ace == 1 and part_sum > 10:\n",
        "        total_sum = part_sum + 1\n",
        "    elif ace > 1 and part_sum <= 10:\n",
        "        total_sum = part_sum + 11 + 1*(ace-1)\n",
        "    else:\n",
        "        total_sum = part_sum\n",
        "\n",
        "\n",
        "    return total_sum"
      ],
      "metadata": {
        "execution": {
          "iopub.status.busy": "2024-04-01T14:16:10.371847Z",
          "iopub.execute_input": "2024-04-01T14:16:10.37224Z",
          "iopub.status.idle": "2024-04-01T14:16:10.381215Z",
          "shell.execute_reply.started": "2024-04-01T14:16:10.37221Z",
          "shell.execute_reply": "2024-04-01T14:16:10.37986Z"
        },
        "trusted": true,
        "id": "p414F_ueBPfh"
      },
      "execution_count": null,
      "outputs": []
    },
    {
      "cell_type": "code",
      "source": [
        "def blackjack_hand_greater_than(hand_1, hand_2):\n",
        "    \"\"\"\n",
        "    Return True if hand_1 beats hand_2, and False otherwise.\n",
        "\n",
        "    In order for hand_1 to beat hand_2 the following must be true:\n",
        "    - The total of hand_1 must not exceed 21\n",
        "    - The total of hand_1 must exceed the total of hand_2 OR hand_2's total must exceed 21\n",
        "\n",
        "    Hands are represented as a list of cards. Each card is represented by a string.\n",
        "\n",
        "    When adding up a hand's total, cards with numbers count for that many points. Face\n",
        "    cards ('J', 'Q', and 'K') are worth 10 points. 'A' can count for 1 or 11.\n",
        "\n",
        "    When determining a hand's total, you should try to count aces in the way that\n",
        "    maximizes the hand's total without going over 21. e.g. the total of ['A', 'A', '9'] is 21,\n",
        "    the total of ['A', 'A', '9', '3'] is 14.\n",
        "\n",
        "    Examples:\n",
        "    >>> blackjack_hand_greater_than(['K'], ['3', '4'])\n",
        "    True\n",
        "    >>> blackjack_hand_greater_than(['K'], ['10'])\n",
        "    False\n",
        "    >>> blackjack_hand_greater_than(['K', 'K', '2'], ['3'])\n",
        "    False\n",
        "    \"\"\"\n",
        "    total_h1 = count_hand(hand_1)\n",
        "    total_h2 = count_hand(hand_2)\n",
        "\n",
        "    print(hand_1, total_h1, hand_2, total_h2)\n",
        "    if count_hand(hand_1) > 21:\n",
        "        return False\n",
        "    elif (count_hand(hand_1) > count_hand(hand_2)) or (count_hand(hand_2) > 21) or count_hand(hand_1) == 21:\n",
        "        return True\n",
        "    else:\n",
        "        return False\n",
        "\n",
        "# Check your answer\n",
        "q3.check()"
      ],
      "metadata": {
        "execution": {
          "iopub.status.busy": "2024-04-01T14:16:13.256426Z",
          "iopub.execute_input": "2024-04-01T14:16:13.256851Z",
          "iopub.status.idle": "2024-04-01T14:16:13.275982Z",
          "shell.execute_reply.started": "2024-04-01T14:16:13.25682Z",
          "shell.execute_reply": "2024-04-01T14:16:13.275075Z"
        },
        "trusted": true,
        "id": "KmXYdMJ7BPfh"
      },
      "execution_count": null,
      "outputs": []
    },
    {
      "cell_type": "code",
      "source": [
        "#q3.hint()\n",
        "#q3.solution()"
      ],
      "metadata": {
        "execution": {
          "iopub.status.busy": "2024-04-01T13:50:41.490659Z",
          "iopub.status.idle": "2024-04-01T13:50:41.491579Z",
          "shell.execute_reply.started": "2024-04-01T13:50:41.491208Z",
          "shell.execute_reply": "2024-04-01T13:50:41.491248Z"
        },
        "trusted": true,
        "id": "EDK3ERx0BPfh"
      },
      "execution_count": null,
      "outputs": []
    },
    {
      "cell_type": "markdown",
      "source": [
        "# The End\n",
        "\n",
        "You've finished the Python course. Congrats!\n",
        "\n",
        "You probably didn't put in all these hours of learning Python just to play silly games of chance, right? If you're interested in applying your newfound Python skills to some data science tasks, we strongly recommend **[this tutorial](https://www.kaggle.com/alexisbcook/titanic-tutorial)**, which will teach you how to make your very first submission to a Kaggle competition.\n",
        "\n",
        "You can also check out some of our other **[Kaggle Courses](https://www.kaggle.com/learn/overview)**. Some good next steps are:\n",
        "\n",
        "1. [Intro to Machine Learning](https://www.kaggle.com/learn/intro-to-machine-learning)\n",
        "2. [Pandas for data manipulation](https://www.kaggle.com/learn/pandas)\n",
        "3. [Data Visualization](https://www.kaggle.com/learn/data-visualization)\n",
        "\n",
        "Happy Pythoning!"
      ],
      "metadata": {
        "id": "0VszRBIaBPfh"
      }
    },
    {
      "cell_type": "markdown",
      "source": [
        "---\n",
        "\n",
        "\n",
        "\n",
        "\n",
        "*Have questions or comments? Visit the [course discussion forum](https://www.kaggle.com/learn/python/discussion) to chat with other learners.*"
      ],
      "metadata": {
        "id": "-FgNKEHCBPfh"
      }
    }
  ]
}